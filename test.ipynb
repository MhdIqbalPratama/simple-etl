{
 "cells": [
  {
   "cell_type": "code",
   "execution_count": 1,
   "id": "305e1035",
   "metadata": {},
   "outputs": [],
   "source": [
    "import requests\n",
    "import json"
   ]
  },
  {
   "cell_type": "code",
   "execution_count": null,
   "id": "366d5f1a",
   "metadata": {},
   "outputs": [
    {
     "name": "stdout",
     "output_type": "stream",
     "text": [
      "<function fetch_products at 0x00000196CB99AD40>\n"
     ]
    }
   ],
   "source": [
    "url = \"https://gql.tokopedia.com/graphql/SearchProductV5Query\"\n",
    "\n",
    "headers = {\n",
    "    \"content-type\": \"application/json\",\n",
    "    \"user-agent\": \"Mozilla/5.0 (Windows NT 10.0; Win64; x64)\",\n",
    "    \"referer\": \"https://www.tokopedia.com/\",\n",
    "    \"x-device\": \"desktop-0.0\",\n",
    "    \"x-source\": \"tokopedia-lite\",\n",
    "}\n",
    "\n",
    "# ganti keyword 'iphone' sama query lo sendiri\n",
    "def fetch_products(keyword=\"iphone\", start=0, rows=60):\n",
    "    payload = [\n",
    "        {\n",
    "            \"operationName\": \"SearchProductV5Query\",\n",
    "            \"variables\": {\n",
    "                \"params\": f\"device=desktop&rows={rows}&q={keyword}&start={start}&page={(start//rows)+1}\"\n",
    "            },\n",
    "            \"query\": \"query SearchProductV5Query($params: String!) { searchProductV5(params: $params) { data { products { id name url price { text number } shop { name city } rating } } } }\",\n",
    "        }\n",
    "    ]\n",
    "\n",
    "    r = requests.post(url, headers=headers, data=json.dumps(payload))\n",
    "    return r.json()\n",
    "\n",
    "# contoh ambil 2 page\n",
    "for page in range(5):\n",
    "    data = fetch_products(\"iphone\", start=page*60)\n",
    "    products = data[0][\"data\"][\"searchProductV5\"][\"data\"][\"products\"]\n",
    "    for p in products:\n",
    "        print(p[\"name\"], \"-\", p[\"price\"][\"text\"])\n"
   ]
  }
 ],
 "metadata": {
  "kernelspec": {
   "display_name": "Python 3",
   "language": "python",
   "name": "python3"
  },
  "language_info": {
   "codemirror_mode": {
    "name": "ipython",
    "version": 3
   },
   "file_extension": ".py",
   "mimetype": "text/x-python",
   "name": "python",
   "nbconvert_exporter": "python",
   "pygments_lexer": "ipython3",
   "version": "3.10.0"
  }
 },
 "nbformat": 4,
 "nbformat_minor": 5
}
